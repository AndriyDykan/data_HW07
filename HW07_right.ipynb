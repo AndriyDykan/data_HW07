{
 "cells": [
  {
   "cell_type": "code",
   "execution_count": 1,
   "id": "7bd51486-1895-401a-bce3-05cc71c5f0ba",
   "metadata": {},
   "outputs": [
    {
     "name": "stdout",
     "output_type": "stream",
     "text": [
      "Evaluating RMSE, MAE of algorithm SVD on 5 split(s).\n",
      "\n",
      "                  Fold 1  Fold 2  Fold 3  Fold 4  Fold 5  Mean    Std     \n",
      "RMSE (testset)    0.9296  0.9387  0.9379  0.9340  0.9367  0.9354  0.0033  \n",
      "MAE (testset)     0.7334  0.7384  0.7403  0.7358  0.7377  0.7371  0.0024  \n",
      "Fit time          0.57    0.58    0.53    0.54    0.60    0.56    0.03    \n",
      "Test time         0.08    0.08    0.12    0.12    0.12    0.11    0.02    \n"
     ]
    },
    {
     "data": {
      "text/plain": [
       "{'test_rmse': array([0.92959277, 0.93870652, 0.93785012, 0.93395545, 0.93665993]),\n",
       " 'test_mae': array([0.73338889, 0.73844104, 0.74031537, 0.73577336, 0.73766648]),\n",
       " 'fit_time': (0.5666048526763916,\n",
       "  0.576714038848877,\n",
       "  0.528184175491333,\n",
       "  0.5353779792785645,\n",
       "  0.5987949371337891),\n",
       " 'test_time': (0.08345818519592285,\n",
       "  0.08173203468322754,\n",
       "  0.12011981010437012,\n",
       "  0.11599993705749512,\n",
       "  0.12425851821899414)}"
      ]
     },
     "execution_count": 1,
     "metadata": {},
     "output_type": "execute_result"
    }
   ],
   "source": [
    "from surprise import SVD\n",
    "from surprise import Dataset\n",
    "from surprise.model_selection import cross_validate\n",
    "\n",
    "data = Dataset.load_builtin('ml-100k')\n",
    "algo = SVD()\n",
    "cross_validate(algo, data, measures=['RMSE', 'MAE'], cv=5, verbose=True)"
   ]
  },
  {
   "cell_type": "code",
   "execution_count": 3,
   "id": "491173a5-2361-4e04-b279-5bcf7f7ec211",
   "metadata": {},
   "outputs": [
    {
     "name": "stdout",
     "output_type": "stream",
     "text": [
      "Evaluating RMSE, MAE of algorithm SVDpp on 5 split(s).\n",
      "\n",
      "                  Fold 1  Fold 2  Fold 3  Fold 4  Fold 5  Mean    Std     \n",
      "RMSE (testset)    0.9123  0.9108  0.9229  0.9227  0.9319  0.9201  0.0078  \n",
      "MAE (testset)     0.7139  0.7135  0.7260  0.7231  0.7341  0.7221  0.0078  \n",
      "Fit time          13.83   14.06   14.51   13.84   14.29   14.11   0.26    \n",
      "Test time         2.76    2.85    2.81    2.56    2.78    2.75    0.10    \n"
     ]
    },
    {
     "data": {
      "text/plain": [
       "{'test_rmse': array([0.91232534, 0.91079632, 0.9229058 , 0.92272733, 0.93191085]),\n",
       " 'test_mae': array([0.71387237, 0.71345666, 0.72600217, 0.72310152, 0.73405464]),\n",
       " 'fit_time': (13.834275960922241,\n",
       "  14.061675071716309,\n",
       "  14.514994144439697,\n",
       "  13.836166143417358,\n",
       "  14.28624939918518),\n",
       " 'test_time': (2.760521411895752,\n",
       "  2.850440263748169,\n",
       "  2.813385009765625,\n",
       "  2.5597987174987793,\n",
       "  2.7817740440368652)}"
      ]
     },
     "execution_count": 3,
     "metadata": {},
     "output_type": "execute_result"
    }
   ],
   "source": [
    "from surprise import SVDpp\n",
    "\n",
    "\n",
    "data = Dataset.load_builtin('ml-100k')\n",
    "algo = SVDpp()\n",
    "cross_validate(algo, data, measures=['RMSE', 'MAE'], cv=5, verbose=True)"
   ]
  },
  {
   "cell_type": "code",
   "execution_count": 4,
   "id": "40e6ecec-e969-4bd6-91eb-1cf8a1a251a7",
   "metadata": {},
   "outputs": [
    {
     "name": "stdout",
     "output_type": "stream",
     "text": [
      "Evaluating RMSE, MAE of algorithm NMF on 5 split(s).\n",
      "\n",
      "                  Fold 1  Fold 2  Fold 3  Fold 4  Fold 5  Mean    Std     \n",
      "RMSE (testset)    0.9584  0.9604  0.9656  0.9655  0.9650  0.9630  0.0030  \n",
      "MAE (testset)     0.7524  0.7560  0.7592  0.7593  0.7583  0.7570  0.0026  \n",
      "Fit time          1.16    1.17    1.15    1.15    1.21    1.17    0.02    \n",
      "Test time         0.11    0.11    0.07    0.11    0.11    0.10    0.02    \n"
     ]
    },
    {
     "data": {
      "text/plain": [
       "{'test_rmse': array([0.95843374, 0.96040135, 0.96562917, 0.9655417 , 0.96504381]),\n",
       " 'test_mae': array([0.7523827 , 0.75601092, 0.75915777, 0.75932558, 0.75833175]),\n",
       " 'fit_time': (1.164748191833496,\n",
       "  1.166381597518921,\n",
       "  1.1533827781677246,\n",
       "  1.1510767936706543,\n",
       "  1.2073581218719482),\n",
       " 'test_time': (0.10899996757507324,\n",
       "  0.11354231834411621,\n",
       "  0.07094025611877441,\n",
       "  0.10699987411499023,\n",
       "  0.10899996757507324)}"
      ]
     },
     "execution_count": 4,
     "metadata": {},
     "output_type": "execute_result"
    }
   ],
   "source": [
    "from surprise import NMF\n",
    "\n",
    "\n",
    "data = Dataset.load_builtin('ml-100k')\n",
    "algo = NMF()\n",
    "cross_validate(algo, data, measures=['RMSE', 'MAE'], cv=5, verbose=True)"
   ]
  },
  {
   "cell_type": "raw",
   "id": "9e3389a3-52c2-43e5-b158-9f9201e5da35",
   "metadata": {},
   "source": [
    "Моделі SVD та SVDpp виявилися ефективнішими за метриками RMSE та MAE порівняно з моделлю NMF. SVDpp має трохи кращі показники RMSE та MAE, але його час навчання та тестування виявився значно більшим у порівнянні з SVD та NMF. NMF показав гірші результати за метриками RMSE та MAE порівняно з SVD та SVDpp, проте він має найменший час навчання та тестування серед усіх трьох моделей"
   ]
  },
  {
   "cell_type": "code",
   "execution_count": null,
   "id": "e7f8b23b-ed05-445c-a935-862ad9933f00",
   "metadata": {},
   "outputs": [],
   "source": []
  }
 ],
 "metadata": {
  "kernelspec": {
   "display_name": "Python 3 (ipykernel)",
   "language": "python",
   "name": "python3"
  },
  "language_info": {
   "codemirror_mode": {
    "name": "ipython",
    "version": 3
   },
   "file_extension": ".py",
   "mimetype": "text/x-python",
   "name": "python",
   "nbconvert_exporter": "python",
   "pygments_lexer": "ipython3",
   "version": "3.12.2"
  }
 },
 "nbformat": 4,
 "nbformat_minor": 5
}
